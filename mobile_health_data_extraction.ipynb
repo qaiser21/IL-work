{
  "nbformat": 4,
  "nbformat_minor": 0,
  "metadata": {
    "colab": {
      "name": "mobile health data extraction",
      "version": "0.3.2",
      "provenance": [],
      "collapsed_sections": [],
      "include_colab_link": true
    },
    "kernelspec": {
      "name": "python3",
      "display_name": "Python 3"
    }
  },
  "cells": [
    {
      "cell_type": "markdown",
      "metadata": {
        "id": "view-in-github",
        "colab_type": "text"
      },
      "source": [
        "<a href=\"https://colab.research.google.com/github/qaiser21/IL-work/blob/master/mobile_health_data_extraction.ipynb\" target=\"_parent\"><img src=\"https://colab.research.google.com/assets/colab-badge.svg\" alt=\"Open In Colab\"/></a>"
      ]
    },
    {
      "cell_type": "code",
      "metadata": {
        "id": "Zf66PzZ4P_5k",
        "colab_type": "code",
        "colab": {}
      },
      "source": [
        "from bs4 import  BeautifulSoup\n",
        "import requests"
      ],
      "execution_count": 0,
      "outputs": []
    },
    {
      "cell_type": "code",
      "metadata": {
        "id": "41z5aEIEQIY8",
        "colab_type": "code",
        "colab": {}
      },
      "source": [
        "#source_url  = \"https://www.mobihealthnews.com/news\"\n",
        "\n",
        "\n",
        "source_url_mobi = []\n",
        "\n",
        "for i in range(475):\n",
        "  source_url= 'https://www.mobihealthnews.com/news?page={}'.format(i)\n",
        "  source_url_mobi.append(source_url)\n"
      ],
      "execution_count": 0,
      "outputs": []
    },
    {
      "cell_type": "code",
      "metadata": {
        "id": "YypkdP8aQ2Er",
        "colab_type": "code",
        "outputId": "8082ac87-7d7d-45f0-c02b-cded21cda12c",
        "colab": {
          "base_uri": "https://localhost:8080/",
          "height": 35
        }
      },
      "source": [
        "\n",
        "len(source_url_mobi)\n",
        "\n"
      ],
      "execution_count": 0,
      "outputs": [
        {
          "output_type": "execute_result",
          "data": {
            "text/plain": [
              "475"
            ]
          },
          "metadata": {
            "tags": []
          },
          "execution_count": 68
        }
      ]
    },
    {
      "cell_type": "code",
      "metadata": {
        "id": "p4-moaLJRdpc",
        "colab_type": "code",
        "colab": {}
      },
      "source": [
        "re  = requests.get(source_url_mobi[0])\n",
        "soup = BeautifulSoup(re.content, 'lxml')"
      ],
      "execution_count": 0,
      "outputs": []
    },
    {
      "cell_type": "code",
      "metadata": {
        "id": "-VAQ6IDFSM4t",
        "colab_type": "code",
        "outputId": "3e31c629-b983-4e7e-ddb6-46993fa3f40e",
        "colab": {
          "base_uri": "https://localhost:8080/",
          "height": 34
        }
      },
      "source": [
        "link = soup.findAll('span', class_= 'field-content')\n",
        "link1 = link[0].findAll('a')\n",
        "link1[0]['href']"
      ],
      "execution_count": 0,
      "outputs": [
        {
          "output_type": "execute_result",
          "data": {
            "text/plain": [
              "'/content/medical-data-firm-diaceutics-announces-aim-float-expected-%C2%A353m-valuation'"
            ]
          },
          "metadata": {
            "tags": []
          },
          "execution_count": 49
        }
      ]
    },
    {
      "cell_type": "code",
      "metadata": {
        "id": "GxNCnvjtTtDM",
        "colab_type": "code",
        "outputId": "def6e025-3d16-44a5-cc59-1180a2abd665",
        "colab": {
          "base_uri": "https://localhost:8080/",
          "height": 55
        }
      },
      "source": [
        "'''\n",
        "main_link_mobi = []\n",
        "for i in range(len(source_url_mobi)):\n",
        "  re = requests.get(source_url_mobi[i])\n",
        "  #print(re)\n",
        "  soup  = BeautifulSoup(re.content,'lxml')\n",
        "  link  = soup.findAll('span', class_ = 'field-content')\n",
        "  for x in link:\n",
        "    #print(x)\n",
        "    link1 = x.findAll('a')\n",
        "    for y in link1:\n",
        "      href = y['href']\n",
        "      link2 = 'https://www.mobihealthnews.com' + href\n",
        "      main_link_mobi.append(link2)\n",
        "\n",
        "#href =  link1[0]['href']\n",
        "#link2 = 'https://www.mobihealthnews.com' + href\n",
        "#main_link_mobi.append(link1)\n",
        "  \n",
        "'''"
      ],
      "execution_count": 0,
      "outputs": [
        {
          "output_type": "execute_result",
          "data": {
            "text/plain": [
              "\"\\nmain_link_mobi = []\\nfor i in range(len(source_url_mobi)):\\n  re = requests.get(source_url_mobi[i])\\n  #print(re)\\n  soup  = BeautifulSoup(re.content,'lxml')\\n  link  = soup.findAll('span', class_ = 'field-content')\\n  for x in link:\\n    #print(x)\\n    link1 = x.findAll('a')\\n    for y in link1:\\n      href = y['href']\\n      link2 = 'https://www.mobihealthnews.com' + href\\n      main_link_mobi.append(link2)\\n\\n#href =  link1[0]['href']\\n#link2 = 'https://www.mobihealthnews.com' + href\\n#main_link_mobi.append(link1)\\n  \\n\""
            ]
          },
          "metadata": {
            "tags": []
          },
          "execution_count": 69
        }
      ]
    },
    {
      "cell_type": "code",
      "metadata": {
        "id": "bBb9NxmweEKi",
        "colab_type": "code",
        "outputId": "63aed07f-073b-4349-ebc4-322883648a3a",
        "colab": {
          "base_uri": "https://localhost:8080/",
          "height": 8654
        }
      },
      "source": [
        "main_link_mobi_1 =[]\n",
        "\n",
        "for i in range(len(source_url_mobi)):\n",
        "  print(i)\n",
        "  re = requests.get(source_url_mobi[i])\n",
        "  soup = BeautifulSoup(re.content, 'lxml')\n",
        "  link_left = soup.findAll('div', class_ = 'group-left list-wrapper')\n",
        "  link_cont = [x.find_all('div',class_ = 'views-field views-field-title') for x in link_left]\n",
        "  aw = [x.find_all('span', class_ = 'field-content') for x in link_cont[0]]\n",
        "  \n",
        "  for ind in range(len(aw)):\n",
        "    link1 = aw[ind][0].findAll('a')\n",
        "    for y in link1:\n",
        "      href = y['href']\n",
        "      link2 = 'https://www.mobihealthnews.com' + href\n",
        "      main_link_mobi_1.append(link2)\n",
        "   \n",
        "      \n",
        "    \n",
        " \n",
        "   "
      ],
      "execution_count": 0,
      "outputs": [
        {
          "output_type": "stream",
          "text": [
            "0\n",
            "1\n",
            "2\n",
            "3\n",
            "4\n",
            "5\n",
            "6\n",
            "7\n",
            "8\n",
            "9\n",
            "10\n",
            "11\n",
            "12\n",
            "13\n",
            "14\n",
            "15\n",
            "16\n",
            "17\n",
            "18\n",
            "19\n",
            "20\n",
            "21\n",
            "22\n",
            "23\n",
            "24\n",
            "25\n",
            "26\n",
            "27\n",
            "28\n",
            "29\n",
            "30\n",
            "31\n",
            "32\n",
            "33\n",
            "34\n",
            "35\n",
            "36\n",
            "37\n",
            "38\n",
            "39\n",
            "40\n",
            "41\n",
            "42\n",
            "43\n",
            "44\n",
            "45\n",
            "46\n",
            "47\n",
            "48\n",
            "49\n",
            "50\n",
            "51\n",
            "52\n",
            "53\n",
            "54\n",
            "55\n",
            "56\n",
            "57\n",
            "58\n",
            "59\n",
            "60\n",
            "61\n",
            "62\n",
            "63\n",
            "64\n",
            "65\n",
            "66\n",
            "67\n",
            "68\n",
            "69\n",
            "70\n",
            "71\n",
            "72\n",
            "73\n",
            "74\n",
            "75\n",
            "76\n",
            "77\n",
            "78\n",
            "79\n",
            "80\n",
            "81\n",
            "82\n",
            "83\n",
            "84\n",
            "85\n",
            "86\n",
            "87\n",
            "88\n",
            "89\n",
            "90\n",
            "91\n",
            "92\n",
            "93\n",
            "94\n",
            "95\n",
            "96\n",
            "97\n",
            "98\n",
            "99\n",
            "100\n",
            "101\n",
            "102\n",
            "103\n",
            "104\n",
            "105\n",
            "106\n",
            "107\n",
            "108\n",
            "109\n",
            "110\n",
            "111\n",
            "112\n",
            "113\n",
            "114\n",
            "115\n",
            "116\n",
            "117\n",
            "118\n",
            "119\n",
            "120\n",
            "121\n",
            "122\n",
            "123\n",
            "124\n",
            "125\n",
            "126\n",
            "127\n",
            "128\n",
            "129\n",
            "130\n",
            "131\n",
            "132\n",
            "133\n",
            "134\n",
            "135\n",
            "136\n",
            "137\n",
            "138\n",
            "139\n",
            "140\n",
            "141\n",
            "142\n",
            "143\n",
            "144\n",
            "145\n",
            "146\n",
            "147\n",
            "148\n",
            "149\n",
            "150\n",
            "151\n",
            "152\n",
            "153\n",
            "154\n",
            "155\n",
            "156\n",
            "157\n",
            "158\n",
            "159\n",
            "160\n",
            "161\n",
            "162\n",
            "163\n",
            "164\n",
            "165\n",
            "166\n",
            "167\n",
            "168\n",
            "169\n",
            "170\n",
            "171\n",
            "172\n",
            "173\n",
            "174\n",
            "175\n",
            "176\n",
            "177\n",
            "178\n",
            "179\n",
            "180\n",
            "181\n",
            "182\n",
            "183\n",
            "184\n",
            "185\n",
            "186\n",
            "187\n",
            "188\n",
            "189\n",
            "190\n",
            "191\n",
            "192\n",
            "193\n",
            "194\n",
            "195\n",
            "196\n",
            "197\n",
            "198\n",
            "199\n",
            "200\n",
            "201\n",
            "202\n",
            "203\n",
            "204\n",
            "205\n",
            "206\n",
            "207\n",
            "208\n",
            "209\n",
            "210\n",
            "211\n",
            "212\n",
            "213\n",
            "214\n",
            "215\n",
            "216\n",
            "217\n",
            "218\n",
            "219\n",
            "220\n",
            "221\n",
            "222\n",
            "223\n",
            "224\n",
            "225\n",
            "226\n",
            "227\n",
            "228\n",
            "229\n",
            "230\n",
            "231\n",
            "232\n",
            "233\n",
            "234\n",
            "235\n",
            "236\n",
            "237\n",
            "238\n",
            "239\n",
            "240\n",
            "241\n",
            "242\n",
            "243\n",
            "244\n",
            "245\n",
            "246\n",
            "247\n",
            "248\n",
            "249\n",
            "250\n",
            "251\n",
            "252\n",
            "253\n",
            "254\n",
            "255\n",
            "256\n",
            "257\n",
            "258\n",
            "259\n",
            "260\n",
            "261\n",
            "262\n",
            "263\n",
            "264\n",
            "265\n",
            "266\n",
            "267\n",
            "268\n",
            "269\n",
            "270\n",
            "271\n",
            "272\n",
            "273\n",
            "274\n",
            "275\n",
            "276\n",
            "277\n",
            "278\n",
            "279\n",
            "280\n",
            "281\n",
            "282\n",
            "283\n",
            "284\n",
            "285\n",
            "286\n",
            "287\n",
            "288\n",
            "289\n",
            "290\n",
            "291\n",
            "292\n",
            "293\n",
            "294\n",
            "295\n",
            "296\n",
            "297\n",
            "298\n",
            "299\n",
            "300\n",
            "301\n",
            "302\n",
            "303\n",
            "304\n",
            "305\n",
            "306\n",
            "307\n",
            "308\n",
            "309\n",
            "310\n",
            "311\n",
            "312\n",
            "313\n",
            "314\n",
            "315\n",
            "316\n",
            "317\n",
            "318\n",
            "319\n",
            "320\n",
            "321\n",
            "322\n",
            "323\n",
            "324\n",
            "325\n",
            "326\n",
            "327\n",
            "328\n",
            "329\n",
            "330\n",
            "331\n",
            "332\n",
            "333\n",
            "334\n",
            "335\n",
            "336\n",
            "337\n",
            "338\n",
            "339\n",
            "340\n",
            "341\n",
            "342\n",
            "343\n",
            "344\n",
            "345\n",
            "346\n",
            "347\n",
            "348\n",
            "349\n",
            "350\n",
            "351\n",
            "352\n",
            "353\n",
            "354\n",
            "355\n",
            "356\n",
            "357\n",
            "358\n",
            "359\n",
            "360\n",
            "361\n",
            "362\n",
            "363\n",
            "364\n",
            "365\n",
            "366\n",
            "367\n",
            "368\n",
            "369\n",
            "370\n",
            "371\n",
            "372\n",
            "373\n",
            "374\n",
            "375\n",
            "376\n",
            "377\n",
            "378\n",
            "379\n",
            "380\n",
            "381\n",
            "382\n",
            "383\n",
            "384\n",
            "385\n",
            "386\n",
            "387\n",
            "388\n",
            "389\n",
            "390\n",
            "391\n",
            "392\n",
            "393\n",
            "394\n",
            "395\n",
            "396\n",
            "397\n",
            "398\n",
            "399\n",
            "400\n",
            "401\n",
            "402\n",
            "403\n",
            "404\n",
            "405\n",
            "406\n",
            "407\n",
            "408\n",
            "409\n",
            "410\n",
            "411\n",
            "412\n",
            "413\n",
            "414\n",
            "415\n",
            "416\n",
            "417\n",
            "418\n",
            "419\n",
            "420\n",
            "421\n",
            "422\n",
            "423\n",
            "424\n",
            "425\n",
            "426\n",
            "427\n",
            "428\n",
            "429\n",
            "430\n",
            "431\n",
            "432\n",
            "433\n",
            "434\n",
            "435\n",
            "436\n",
            "437\n",
            "438\n",
            "439\n",
            "440\n",
            "441\n",
            "442\n",
            "443\n",
            "444\n",
            "445\n",
            "446\n",
            "447\n",
            "448\n",
            "449\n",
            "450\n",
            "451\n",
            "452\n",
            "453\n",
            "454\n",
            "455\n",
            "456\n",
            "457\n",
            "458\n",
            "459\n",
            "460\n",
            "461\n",
            "462\n",
            "463\n",
            "464\n",
            "465\n",
            "466\n",
            "467\n",
            "468\n",
            "469\n",
            "470\n",
            "471\n",
            "472\n",
            "473\n",
            "474\n"
          ],
          "name": "stdout"
        }
      ]
    },
    {
      "cell_type": "code",
      "metadata": {
        "id": "g61S6Ws8lflO",
        "colab_type": "code",
        "outputId": "d22b1566-6559-48fe-82d9-3db8d2616cf3",
        "colab": {
          "base_uri": "https://localhost:8080/",
          "height": 35
        }
      },
      "source": [
        "source_url_mobi[0]"
      ],
      "execution_count": 0,
      "outputs": [
        {
          "output_type": "execute_result",
          "data": {
            "text/plain": [
              "'https://www.mobihealthnews.com/news?page=0'"
            ]
          },
          "metadata": {
            "tags": []
          },
          "execution_count": 117
        }
      ]
    },
    {
      "cell_type": "code",
      "metadata": {
        "id": "msyhc9VYpmL-",
        "colab_type": "code",
        "outputId": "2850448f-ca9e-484a-f04e-14e713db5f91",
        "colab": {
          "base_uri": "https://localhost:8080/",
          "height": 34
        }
      },
      "source": [
        "# title\n",
        "def title(x):\n",
        "  try:\n",
        "    req = requests.get(x)\n",
        "    soup = BeautifulSoup(req.content, 'lxml')\n",
        "    title = soup1.findAll('div', attrs = {'class':'field-item even','property':'dc:title'})\n",
        "    title = [x.get_text() for x in title[0].findAll('h2')]\n",
        "    return title[0]\n",
        "  \n",
        "  except AttributeError:\n",
        "    return \"no title found\"\n",
        "    \n",
        "    \n",
        "\n",
        "# date\n",
        "def date_(x):\n",
        "  try:\n",
        "    req = requests.get(x)\n",
        "    soup = BeautifulSoup(req.content, 'lxml')\n",
        "    date_  = soup.find('div', class_ ='field field-name-post-date field-type-ds field-label-hidden') \n",
        "    return date_.get_text()\n",
        "  except AttributeError:\n",
        "    return \"No Date found\"\n",
        "\n",
        "def desc(x):\n",
        "  try:\n",
        "    req = requests.get(x)\n",
        "    soup = BeautifulSoup(req.content, 'lxml')\n",
        "    description = soup.findAll('div',class_ = 'field-items')\n",
        "    for y in description:\n",
        "      desc_=y.findAll('div',attrs =  {'class':'field-item even','property':'content:encoded'})\n",
        "      text = desc_.get_text()\n",
        "      if len(text) != 0:\n",
        "        return text\n",
        "  except AttributeError:\n",
        "    return 'No text found'\n",
        "    \n",
        "        \n",
        "        \n",
        "\n",
        "  \n",
        "  \n",
        "#def \n",
        "  \n",
        "  \n",
        "#df1['Title'] = df1['URL'].apply(lambda x : title(x))\n",
        "#df1['Date']  = df1['URL'].apply(lambda x : date_(x))\n",
        "\n",
        "\n",
        "\n",
        "\n",
        "'''\n",
        "for i in range(len(url)):\n",
        "  print(i)\n",
        "  title_1 = title(url[i])\n",
        "'''"
      ],
      "execution_count": 0,
      "outputs": [
        {
          "output_type": "execute_result",
          "data": {
            "text/plain": [
              "'\\nfor i in range(len(url)):\\n  print(i)\\n  title_1 = title(url[i])\\n'"
            ]
          },
          "metadata": {
            "tags": []
          },
          "execution_count": 15
        }
      ]
    },
    {
      "cell_type": "code",
      "metadata": {
        "id": "BqtOnjzO3MtQ",
        "colab_type": "code",
        "outputId": "d1f4a1fa-aacf-491e-e1c0-deda3fb07a5c",
        "colab": {
          "base_uri": "https://localhost:8080/",
          "height": 34
        }
      },
      "source": [
        "date_ = soup1.find('div', class_ = 'field field-name-post-date field-type-ds field-label-hidden')\n",
        "date_.get_text()"
      ],
      "execution_count": 0,
      "outputs": [
        {
          "output_type": "execute_result",
          "data": {
            "text/plain": [
              "'March 20, 2019'"
            ]
          },
          "metadata": {
            "tags": []
          },
          "execution_count": 151
        }
      ]
    },
    {
      "cell_type": "code",
      "metadata": {
        "id": "YOLS9dX-9cgA",
        "colab_type": "code",
        "colab": {}
      },
      "source": [
        "description = soup1.findAll('div',class_ = 'field-items')\n",
        "description1   = [[x.get_text() for x in y.findAll('div',attrs =  {'class':'field-item even','property':'content:encoded'})] for y in description]"
      ],
      "execution_count": 0,
      "outputs": []
    },
    {
      "cell_type": "code",
      "metadata": {
        "id": "G1UQb8MYlmnu",
        "colab_type": "code",
        "outputId": "159c74af-dc98-4b89-9aaa-6f19d0d77f0f",
        "colab": {
          "base_uri": "https://localhost:8080/",
          "height": 34
        }
      },
      "source": [
        "'''\n",
        "df1.head()\n",
        "df1['Title'] = df1['URL'].apply(lambda x:title_(x))\n",
        "df1['Date'] = df1['URL'].apply(lambda x : date_(x))\n",
        "df1['description'] = df1['URL'].apply(lambda x : desc(x))\n",
        "'''"
      ],
      "execution_count": 0,
      "outputs": [
        {
          "output_type": "execute_result",
          "data": {
            "text/plain": [
              "\"\\ndf1.head()\\ndf1['Title'] = df1['URL'].apply(lambda x:title_(x))\\ndf1['Date'] = df1['URL'].apply(lambda x : date_(x))\\ndf1['description'] = df1['URL'].apply(lambda x : desc(x))\\n\""
            ]
          },
          "metadata": {
            "tags": []
          },
          "execution_count": 1
        }
      ]
    },
    {
      "cell_type": "code",
      "metadata": {
        "id": "DzN4iUmnwLhG",
        "colab_type": "code",
        "colab": {}
      },
      "source": [
        " def title_(url):\n",
        "    headers = {'User-Agent': 'Mozilla/5.0 (Macintosh; Intel Mac OS X 10_10_1) AppleWebKit/537.36 (KHTML, like Gecko) Chrome/39.0.2171.95 Safari/537.36'}\n",
        "    req = requests.get(url, headers)\n",
        "    soup = BeautifulSoup(req.content, 'lxml')\n",
        "\n",
        "    #title\n",
        "    try:\n",
        "      title = soup.findAll('div', attrs = {'class':'field-item even','property':'dc:title'})\n",
        "      title = [x.get_text() for x in title[0].findAll('h2')]\n",
        "      title = title[0]\n",
        "    except:\n",
        "      title = \"nothing\"\n",
        "    print(title)\n",
        "    \n",
        "    \n",
        "    #description\n",
        "    description = soup.findAll('div',class_ = 'field-items')\n",
        "    text = ''\n",
        "    for y in description:\n",
        "        desc_=y.findAll('div',attrs =  {'class':'field-item even','property':'content:encoded'})\n",
        "        for x in desc_:\n",
        "          if len(x) !=0:\n",
        "            text = text + ' ' + x.get_text()\n",
        "    if len(text) != 0:\n",
        "      text = text\n",
        "    else:\n",
        "      text = \"check with URL\"\n",
        "    \n",
        "    #date\n",
        "    date_ =  soup.find('div', class_ ='field field-name-post-date field-type-ds field-label-hidden')\n",
        "    try:\n",
        "      date =  date_.get_text()\n",
        "    except AttributeError:\n",
        "      date =  \"No Date found\"\n",
        "    return ((title, text, date,url))\n"
      ],
      "execution_count": 0,
      "outputs": []
    },
    {
      "cell_type": "code",
      "metadata": {
        "id": "jn8hqJRL-c0j",
        "colab_type": "code",
        "outputId": "c2646b19-3af8-4050-b4d9-e22a6f5fbee9",
        "colab": {
          "base_uri": "https://localhost:8080/",
          "height": 34
        }
      },
      "source": [
        "link_3000_4000[0]"
      ],
      "execution_count": 0,
      "outputs": [
        {
          "output_type": "execute_result",
          "data": {
            "text/plain": [
              "'https://www.mobihealthnews.com/content/philips-brings-telemedicine-japanese-hospitals-bcbs-covers-hygieieas-service-and-other'"
            ]
          },
          "metadata": {
            "tags": []
          },
          "execution_count": 28
        }
      ]
    },
    {
      "cell_type": "code",
      "metadata": {
        "id": "KDT3NDTU7b4m",
        "colab_type": "code",
        "colab": {}
      },
      "source": [
        "desc_4750_ = []\n",
        "\n",
        "for i in range(len(main_link_mobi[0:])):\n",
        "  desc_260_.append(title_(main_link_mobi[i]))\n",
        "  print(i)"
      ],
      "execution_count": 0,
      "outputs": []
    },
    {
      "cell_type": "code",
      "metadata": {
        "id": "Tf_LEbBy71PX",
        "colab_type": "code",
        "colab": {}
      },
      "source": [
        "def mobi_(start, end,list_ ):\n",
        "  cont = []\n",
        "  \n",
        "  for x in list_[start:]:\n",
        "    cont.append(title_(x))\n",
        "    \n",
        "  df1 =pd.DataFrame(cont, columns = ['Title', 'Description', 'Date','URL'])\n",
        "  return df1\n",
        "    "
      ],
      "execution_count": 0,
      "outputs": []
    },
    {
      "cell_type": "code",
      "metadata": {
        "id": "5SwUGgvcLMp7",
        "colab_type": "code",
        "outputId": "8f48a4f4-a7ab-4471-cb18-389edc8a1909",
        "colab": {
          "base_uri": "https://localhost:8080/",
          "height": 198
        }
      },
      "source": [
        "#df_500_1000 = mobi_(500, 1000, main_link_mobi_1)\n",
        "#df_0_5000 = mobi_(0, 500, main_link_mobi_1)\n",
        "#df_1000_1500 = mobi_(1000, 1500, main_link_mobi_1)\n",
        "#df_1500_2000 = mobi_(1500, 2000, main_link_mobi_1)\n",
        "#df_2000_2500 = mobi_(2000, 2500, main_link_mobi_1)\n",
        "#df_2500_3000 = mobi_(2500, 3000, main_link_mobi_1)\n",
        "#df_3000_3500 = mobi_(3000, 3500, main_link_mobi_1)\n",
        "#df_3500_4000 = mobi_(3500, 4000, main_link_mobi_1)\n",
        "#df_4500_ = mobi_(4500, 4000, main_link_mobi_1)\n",
        "\n",
        "df_4000_4500.head()"
      ],
      "execution_count": 0,
      "outputs": [
        {
          "output_type": "execute_result",
          "data": {
            "text/html": [
              "<div>\n",
              "<style scoped>\n",
              "    .dataframe tbody tr th:only-of-type {\n",
              "        vertical-align: middle;\n",
              "    }\n",
              "\n",
              "    .dataframe tbody tr th {\n",
              "        vertical-align: top;\n",
              "    }\n",
              "\n",
              "    .dataframe thead th {\n",
              "        text-align: right;\n",
              "    }\n",
              "</style>\n",
              "<table border=\"1\" class=\"dataframe\">\n",
              "  <thead>\n",
              "    <tr style=\"text-align: right;\">\n",
              "      <th></th>\n",
              "      <th>Title</th>\n",
              "      <th>Description</th>\n",
              "      <th>Date</th>\n",
              "      <th>URL</th>\n",
              "    </tr>\n",
              "  </thead>\n",
              "  <tbody>\n",
              "    <tr>\n",
              "      <th>0</th>\n",
              "      <td>Samsung smart belt spinoff Welt quickly funded...</td>\n",
              "      <td>At CES in January, Samsung showed off a conce...</td>\n",
              "      <td>September 07, 2016</td>\n",
              "      <td>https://www.mobihealthnews.com/content/samsung...</td>\n",
              "    </tr>\n",
              "    <tr>\n",
              "      <th>1</th>\n",
              "      <td>Everbridge, which counts hospitals among its m...</td>\n",
              "      <td>Burlington, Massachusetts-based Everbridge, w...</td>\n",
              "      <td>September 07, 2016</td>\n",
              "      <td>https://www.mobihealthnews.com/content/everbri...</td>\n",
              "    </tr>\n",
              "    <tr>\n",
              "      <th>2</th>\n",
              "      <td>Apple Watch Series 2 is swimproof; has GPS, Ni...</td>\n",
              "      <td>Apple's announcement day today focused a lot ...</td>\n",
              "      <td>September 07, 2016</td>\n",
              "      <td>https://www.mobihealthnews.com/content/apple-w...</td>\n",
              "    </tr>\n",
              "    <tr>\n",
              "      <th>3</th>\n",
              "      <td>Researchers working on smartphone-enabled anem...</td>\n",
              "      <td>Researchers at the University of Washington a...</td>\n",
              "      <td>September 07, 2016</td>\n",
              "      <td>https://www.mobihealthnews.com/content/researc...</td>\n",
              "    </tr>\n",
              "    <tr>\n",
              "      <th>4</th>\n",
              "      <td>HCA acquires Mobile Heartbeat to roll out its ...</td>\n",
              "      <td>Nashville, Tennessee-based Hospital Corporati...</td>\n",
              "      <td>September 07, 2016</td>\n",
              "      <td>https://www.mobihealthnews.com/content/hca-acq...</td>\n",
              "    </tr>\n",
              "  </tbody>\n",
              "</table>\n",
              "</div>"
            ],
            "text/plain": [
              "                                               Title  ...                                                URL\n",
              "0  Samsung smart belt spinoff Welt quickly funded...  ...  https://www.mobihealthnews.com/content/samsung...\n",
              "1  Everbridge, which counts hospitals among its m...  ...  https://www.mobihealthnews.com/content/everbri...\n",
              "2  Apple Watch Series 2 is swimproof; has GPS, Ni...  ...  https://www.mobihealthnews.com/content/apple-w...\n",
              "3  Researchers working on smartphone-enabled anem...  ...  https://www.mobihealthnews.com/content/researc...\n",
              "4  HCA acquires Mobile Heartbeat to roll out its ...  ...  https://www.mobihealthnews.com/content/hca-acq...\n",
              "\n",
              "[5 rows x 4 columns]"
            ]
          },
          "metadata": {
            "tags": []
          },
          "execution_count": 158
        }
      ]
    },
    {
      "cell_type": "code",
      "metadata": {
        "id": "GpxSRS8hlzxu",
        "colab_type": "code",
        "colab": {}
      },
      "source": [
        "#df_main = pd.concat([df_0_5000,df_500_1000,df_1000_1500,df_1500_2000,df_2000_2500,df_2500_3000,df_3000_3500,df_3500_4000,df_4500_,df_4000_4500])\n",
        "df_main = df_main.reset_index()\n",
        "\n",
        "df_main.to_json('mobihealth.json')\n",
        "df_main.to_excel('mobihealth.xlsx', index = False)\n",
        "\n",
        "\n",
        "files.download('mobihealth.json')\n",
        "#files.download('mobihealth.xlsx')\n",
        "\n"
      ],
      "execution_count": 0,
      "outputs": []
    },
    {
      "cell_type": "code",
      "metadata": {
        "id": "KJoo6LXdnJnH",
        "colab_type": "code",
        "colab": {}
      },
      "source": [
        ""
      ],
      "execution_count": 0,
      "outputs": []
    },
    {
      "cell_type": "code",
      "metadata": {
        "id": "aNuJqEMnmNz5",
        "colab_type": "code",
        "outputId": "a5bcc186-d136-4d9b-faf8-97ed92e640e8",
        "colab": {
          "base_uri": "https://localhost:8080/",
          "height": 108
        }
      },
      "source": [
        "df_main.nunique()"
      ],
      "execution_count": 0,
      "outputs": [
        {
          "output_type": "execute_result",
          "data": {
            "text/plain": [
              "Title          4732\n",
              "Description    4647\n",
              "Date            878\n",
              "URL            4750\n",
              "dtype: int64"
            ]
          },
          "metadata": {
            "tags": []
          },
          "execution_count": 166
        }
      ]
    },
    {
      "cell_type": "code",
      "metadata": {
        "id": "L_EMuHfkOQlI",
        "colab_type": "code",
        "outputId": "6ff4fbb8-045f-421f-ddf4-c1536f5b45bd",
        "colab": {
          "base_uri": "https://localhost:8080/",
          "height": 4563
        }
      },
      "source": [
        "df_4500_ = mobi_(4500, 4000, main_link_mobi_1)"
      ],
      "execution_count": 0,
      "outputs": [
        {
          "output_type": "stream",
          "text": [
            "Bivarus raises $2M for patient experience analytics program\n",
            "Roundup: Notable digital health hires at Alivecor, Oscar, and Reflexion\n",
            "CirrusMD raises $1M for text-first, video visits telemedicine offering\n",
            "Study: Wearables' accuracy varies widely for caloric burn\n",
            "Boston Medical Center offers Sleepio app, tracking program to employees\n",
            "Samsung Australia unveils prototype wearable to monitor risk for concussions\n",
            "MC10, researchers in Korea build prototype glucose management peel-and-stick patch\n",
            "Apple taps 23andMe to bring genetic data into ResearchKit\n",
            "Apple announces CareKit, an app toolkit for hospitals \n",
            "Maxwell Health raises $22M to scale its employee benefits offering\n",
            "As Nokia rebounds from mobile phones, it sets its sights on digital health\n",
            "eGym raises $45M for connected gym equipment, US launch\n",
            "In-depth: Digital health news recap of HIMSS16\n",
            "MobiHealthNews Podcast: HIMSS16 Digital health news recap\n",
            "Target to launch digital health section of devices in 500 stores\n",
            "University of Buffalo researchers develop necklace that tracks food intake by listening\n",
            "Epic to develop Apple Watch app 'Limerick,' a test results notifier\n",
            "Amazon Echo can now inform, motivate Fitbit users\n",
            "Nike updates Nike+ app with personalized, in-app Nike store\n",
            "Jawbone adds another ex-employee to suit against Fitbit over allegedly stolen trade secrets\n",
            "21 clinical trials that are using Fitbit activity trackers right now\n",
            "Medical wearable startup Quanttus launches blood pressure tracking app for consumers\n",
            "InfoBionic receives FDA clearance for cellular-enabled heart monitoring device\n",
            "AliveCor launches ECG Apple Watch strap, rebrands product line as Kardia\n",
            "Design firm Mad*Pow acquires employee wellness app HotSeat\n",
            "Nestle to use Medisafe app to track adherence to nutritional drink\n",
            "Dexcom's next generation Apple Watch CGM app needs one less device to work\n",
            "UCSF researchers tap prediabetes app-based coaching startup Yes Health for user data\n",
            "Independence Blue Cross to offer members MDLive, also reimburse remote visits with their own PCPs\n",
            "Smartphone-connected glucometer Dario launches in US after FDA clearance\n",
            "HealthTap quietly acquires physician app startup Docphin\n",
            "CDC looking into wearable, environmental sensors for first responders\n",
            "University of Colorado releases thought tracking app to learn how people's minds wander\n",
            "Fossil's new Q Motion wearable invites comparison to Misfit Ray\n",
            "Palo Alto Health Sciences raises $1.9M for FDA-cleared sensor, tablet-based system for panic disorder\n",
            "Gatorade shares more details on its smart water bottle, hydration-sensing patch\n",
            "Boston-based digital health hub to launch soon with $250,000 state grant, accelerator\n",
            "Survey: Usability trumps trustworthiness for consumers' health website preferences\n",
            "Nestle, Medidata to use fitness trackers to study impact of activity, nutrition on adults with joint discomfort\n",
            "Golden Seeds led Constant Therapy's $2M round for mobile-based brain rehab therapy\n",
            "How consumer health, fitness devices reveal HIPAA's blurry lines\n",
            "Smoking cessation app-maker partners with GSK to offer nicotine patches\n",
            "JAMA study is the latest to examine health app privacy policies\n",
            "Are \"twins\" the key to weight loss apps' success? \n",
            "AbilTo study shows its diabetes-focused remote visits program can lower depression, stress, anxiety\n",
            "ONC taps Accenture to create patient-generated health data framework\n",
            "Reports: 559.6M wearables, 87M activity trackers will ship in 2021\n",
            "Valencell raises $8.4M more to expand beyond fitness into first responders, military\n",
            "How to prod along gamification in healthcare\n",
            "Survey: 88 percent of CEOs said they already offer employees a wellness program\n",
            "Following layoffs last week Aetna merges iTriage with WellMatch\n",
            "Wearable for smoking cessation reduces cravings in small trial\n",
            "Eight raises $6 million for sleep tracking mattress pad\n",
            "Survey: 50 percent of employers use mobile apps to engage employees in their health\n",
            "ONC privacy chief talks APIs and how not to use HIPAA\n",
            "Sense Health brings its texting-based adherence program to more Medicaid members in NYC\n",
            "First Derm launches smartphone-connected dermatoscope\n",
            "Mount Sinai launches data sharing initiative for digital health pilots\n",
            "Teladoc revenue reached $77.4M in 2015; Dell, DuPont, Kohl's sign on as customers\n",
            "Digital health funding in February reached $197 million\n",
            "Sage Bionetworks releases data from first six months of Parkinson's mPower ResearchKit study\n",
            "WebMD survey: Millennials and seniors are least likely to use wearable fitness trackers\n",
            "American Sleep Apnea Association, IBM launch sleep-focused ResearchKit app\n",
            "Scrypt acquires physician comms startup DocbookMD\n",
            "Boston Scientific, app developer launch Ureteral Stent Tracker app\n",
            "Carolinas HealthCare monitors Fitbit data to intervene with CHF patients\n",
            "DeSalvo: ONC kicks off 3 developer challenges to advance FHIR \n",
            "UnitedHealthcare, Qualcomm launch mobile-enabled wellness program, UnitedHealthcare Motion\n",
            "FTC approves final order to fine vision improvement app-maker\n",
            "Investors on health tech trends: fewer, better pilots and smaller, reliable bets\n",
            "WellDoc partners with J&J's LifeScan, raises $7.5 million more\n",
            "HHS, Epic, Cerner, top five private health systems commit to patient data access\n",
            "Want to get your health tech startup funded? Know the territory and solve a problem\n",
            "Crisis Text Line opens up its mental health texting data set to researchers\n",
            "Fitbit actually acquired FitStar for about $24.8M in the end\n",
            "Video: Next steps for digital health in 2016\n",
            "Podcast: Patient generated health data\n",
            "Roundup of recent notable digital health hires: Zipnosis, PatientSafe, ResApp\n",
            "New Zealand researchers to use Adherium smart inhalers in multi-country study\n",
            "NIH to launch health tech center for Precision Medicine Initiative this summer\n",
            "Google's UK AI subsidiary DeepMind partners with NHS to develop medical apps\n",
            "American Well unveils remote visit SDK for health apps\n",
            "UPMC leads $17M investment in Vivify Health for its remote patient monitoring system\n",
            "Propeller Health, Aptar partner to create connected metered dose inhalers\n",
            "Virgin Pulse acquires two employee wellness companies: ShapeUp and Global Corporate Challenge\n",
            "WebMD eyeing expansion into healthcare price transparency, telehealth\n",
            "Mass General Hospital teams with MIT spinoff Cogito on behavioral health analyzer\n",
            "Humana's Transcend Insights launches suite of digital population health management tools\n",
            "Wearable device shipments topped 78 million units in 2015\n",
            "Startup raises money to monitor temperature of lab samples in transit using sensors, smartphones\n",
            "With $400M injection, tech-savvy health insurer Oscar eyes 1M member mark\n",
            "Fitbit revenues top $1.8B in 2015, added 1,000 enterprise customers for corporate wellness\n",
            "Video: Patient access to their health records in 2016\n",
            "Commonwealth Fund: \"Reasonably small\" number of chronic health apps are useful\n",
            "Under Armour's app acquisitions will soon share a privacy policy, terms of service\n",
            "ABI: Activity tracking device shipments to reach 87M in 2021\n",
            "Garmin unveils two activity tracking devices with auto-activity detection\n",
            "Video: Telehealth is trending up\n",
            "Video: The current state of patient generated health data\n",
            "Opternative gets $6 million for smartphone-based home eye exam\n",
            "Ochsner's Optimal Hospital adds apps for doctors, nurses, patients\n",
            "Omada Health launches new version of Prevent with features for underserved populations\n",
            "Constant Therapy raises $1.9M for mobile-enabled brain rehabilitation tool\n",
            "Cala Health gets $18M for tremor-treating wearable\n",
            "Apple CEO Tim Cook: Health info at risk in FBI request to unlock iOS\n",
            "MobiHealthNews Podcast: Digital health efficacy\n",
            "Webinar today: Physician Panel Discussion on Using Tablets in Clinical Settings\n",
            "Switzerland's MindMaze gets $100M to bring virtual reality therapy for stroke patients to US\n",
            "Kaiser Permanente Ventures invests $5M in mobile-enabled caregiver service Hometeam\n",
            "PokitDok raises undisclosed sum from McKesson Ventures\n",
            "Microsoft, Novartis partner for Kinect-based multiple sclerosis assessment tool\n",
            "Small study: Risk of losing reward works better for reaching activity tracking goals\n",
            "In study, CBT app MoodHacker matches web-based programs for depression care\n",
            "Study finds readmissions nearly the same for heart failure patients using remote patient monitoring\n",
            "How to make sure digital health interventions work for low-income patients\n",
            "Pfizer, education company launch San Francisco health tech accelerator\n",
            "Samsung spinoff unveils smartphone-connected fitness tracking shoes\n",
            "Fitbit argues Jawbone's patents are too abstract to enforce\n",
            "Trend: Retail companies are buying their way into digital health and fitness\n",
            "Small study finds text, email intervention reduces labor for CPAP coaching\n",
            "HHS adds more guidance for health app developers navigating HIPAA\n",
            "Running shoe company ASICS buys Runkeeper for $85 million\n",
            "Roundup of recent digital health hires: Treato, Grail, Sensoria\n",
            "L'Oreal shares more details about its smartphone-connected UV patch\n",
            "First Stop Health raises $2.1M for remote physician visits offering\n",
            "Nine more digital health crowdfunding campaigns\n",
            "Blink Health launches app to help consumers find prescription drug discounts\n",
            "FDA clears BioGaming's Microsoft Kinect-based physiotherapy software\n",
            "Lantern raises $17M for its mobile-based mental health coaching program\n",
            "Like Target, Fitbit sometimes knows you're pregnant before you do\n",
            "D-Eye raises $1.6M for a smartphone-based retinal imaging system\n",
            "Roundup: More than a dozen IBM Watson health-related partnerships\n",
            "Withings adds $5 blood pressure algorithm to Health Mate app\n",
            "Study: Walkadoo increased employee activity by nearly 1,000 steps per day\n",
            "HealthBeacon raises $1.1M for medication adherence-tracking needle disposal container\n",
            "Novartis signs Aetna, Cigna for pay-for-performance drug deal, but no remote monitoring yet\n",
            "Jessica Alba's Honest Company quietly acquired BabyBump, Pink Pad app-maker last year\n",
            "In small study, learning algorithm helps diabetes patients be more active\n",
            "Philadelphia's University City Science Center adds six to its Digital Health Accelerator\n",
            "Jawbone finally kills support for BodyMedia devices\n",
            "Survey: Most caregivers became more reliant on online health information in the past year\n",
            "Digital health funding in January reached $471 million\n",
            "One Medical Group acquires nutrition coaching app Rise for a reported $20M\n",
            "Smartwatch, fitness band shipments and revenue predictions from Canalys, Gartner, and Juniper\n",
            "NYU Langone Medical Center to test cardiac rehabilitation app in clinical trial\n",
            "Nintendo stops development of its sleep tracking device\n",
            "Aetna's iTriage launches Essentials app, a testing ground for iTriage 2.0\n",
            "Roundup of recent digital health moves: Teladoc, CareSync, Jawbone, athenahealth\n",
            "Ahead of IPO, Senseonics taps diasend for CGM app integration\n",
            "UK mental health provider, Stanford to develop suicide prevention app\n",
            "Humana employees to join Propeller's Air Louisville study of asthma triggers\n",
            "Latest telemedicine bill could save $1.8B by waiving Medicare restrictions\n",
            "Pear Therapeutics raises $20M for digital combination interventions, starting with substance use disorders\n",
            "Hospital iPad app-maker MyRounding acquired by Huron Consulting\n",
            "Fitbit focuses on fashion with new activity tracking device, Fitbit Alta\n",
            "Rock Health tackles the opportunities and challenges of digital biomarkers\n",
            "Doctor On Demand's Chief Medical Officer departs, company adds psychiatry visits\n",
            "Survey: 71 percent of adults would use a health tracking device if it was clinically accurate\n",
            "Prediction: Investors to inject $1B in on-demand healthcare companies by end of 2017\n",
            "Healthcare agency ghg acquires health app developer The Lathe\n",
            "In past year, telemedicine reimbursement has gotten better, licensure worse\n",
            "Survey: 31 percent of patients use app or device to manage a heart condition\n",
            "Mattel acquires baby health wearable maker Sproutling\n",
            "Cambia shuts down its mobile payment startup Wellero\n",
            "Google to shut down its activity tracking app My Tracks this spring\n",
            "Unexpected insights, correlations and stats from health tracking companies\n",
            "In-Depth: Runkeeper's bid to take on Under Armour \n",
            "Webinar today: Health tech trends set to shape 2016\n",
            "UK-based researchers launch app-based study to examine connection between weather and pain\n",
            "CMS OKs telehealth for face-to-face Medicaid visits\n",
            "Stanford launches its patient-facing health management app, MyHealth, for Android\n",
            "Beth Israel gears up to launch HealthKit-enabled remote patient monitoring program\n",
            "Health 2.0: At $4.75B, digital health funding was up, not down, in 2015\n",
            "Texas Medical Center adds 13 startups to TMCx, its digital health accelerator\n",
            "For patients, providers, and communities, tech's biggest healthcare opportunity is still improving communication\n",
            "Neurotrack raises $6.5M for cognitive assessment tool, management program\n",
            "Wearable sweat sensor could have broad range of uses\n",
            "SnapMD raises $5.3M to help providers connect with their patients remotely\n",
            "Mobile diabetes intervention reduced HbA1c 2 percentage points more than standard of care\n",
            "European Commission forms group to create guidelines for health app data quality\n",
            "Harvard docs: Time is right for patient-centered health repositories, not portals\n",
            "Jan Medical raises $7.5M for diagnostic tool that detects neurological conditions\n",
            "RetraceHealth raises $1M for its primary care house call, video visits offering\n",
            "Judge rules that wellness program screenings don't violate ADA\n",
            "In light of lawsuit, Consumer Reports revisits, reasserts accuracy of Fitbit heart rate monitoring\n",
            "In-Depth: How WebMD navigated the rise of digital health\n",
            "Akili Interactive Labs raises $30.5M for cognitive video game intervention\n",
            "Cedars-Sinai to use Fitbits in small trial of cancer patients\n",
            "Iron Yard closes its health accelerator to run coding school, build network for healthcare entrepreneurs\n",
            "Qualcomm and GlaxoSmithKline in talks to launch medical device joint venture\n",
            "Survey: Diabetes apps are top prospect for developers\n",
            "Rock Health: Gender diversity leads to better performance of digital health companies\n",
            "Report: Tech-savvy health insurer Oscar is raising another $150M at a $3B valuation\n",
            "Thrive Feeding raises $500K for smart baby bottle\n",
            "Mixed reactions to the Scripps Wired for Health study results on Twitter\n",
            "Consumer health and wellness site Greatist raises $4.5M to move beyond media\n",
            "Twitter ex-CEO Dick Costolo to launch digital fitness company\n",
            "Premera Blue Cross taps Blues-backed EveryMove for member engagement, incentives program\n",
            "Scripps Wired for Health study results show no clinical or economic benefit from digital health monitoring\n",
            "Roundup: 11 digital health crowdfunding campaigns\n",
            "Researchers test tiny implantable wireless sensors that dissolve in the brain\n",
            "Survey: 15 percent of family physicians used telemedicine in 2014\n",
            "Jawbone adds $165M but loses new president and half its valuation\n",
            "Rumor: Samsung to launch new fitness tracking smartwatch\n",
            "HealthSpot files for bankruptcy liquidation to pay creditors\n",
            "Lose It CEO talks Weight Watchers, Under Armour, and when ice cream can help\n",
            "UK-based Babylon raises $25M for its app-enabled, remote healthcare service\n",
            "Juniper: Apple Watch leads wearable pack as fitness bands, smartwatches converge\n",
            "Mercom: Healthcare IT funding reached $4.6B in 2015\n",
            "At FTC's PrivacyCon, concerns about the monetization of consumer health data\n",
            "Call9 raises $10M for emergency care video visits, starting with nursing homes\n",
            "Pre-FDA, smartphone-connected, implantable CGM company Senseonics files for $51.75M IPO\n",
            "Survey: Half of health app users expect a hack in the next 6 months\n",
            "Wellapets rebrands to Wizdy, launches asthma app for kids, raises $300K\n",
            "Top 5 predictions for 2016 in health tech and services\n",
            "Neurometrix gets FDA clearance for smartphone-controlled Quell device\n",
            "CB Insights: Digital health funding reached $5.8 billion in 2015\n",
            "Dreamit Health accelerator now gives startups option to reject cash, keep equity\n",
            "AiCure raises $12M for smartphone camera-powered medication adherence tracking\n",
            "mPulse Mobile raises $8.3 million more for healthcare secure messaging\n",
            "Barton Health System CEO talks Proteus ingestible sensor deal\n",
            "Apple's Health app will soon help direct users to third party health, wellness apps\n",
            "Teladoc conducted 575,000 remote visits last year\n",
            "Higi raises $40 million for its health tracking kiosk, app\n",
            "Medication reminders that know when you're eating and 4 other Google digital health patents\n",
            "Consumer health site Healthline spins out, raises $95M, plans to add apps, videos\n",
            "California hospital becomes first in US to prescribe ingestible sensors from Proteus\n",
            "In-Depth: Digital health news from CES 2016\n",
            "Kolibree raises $4M for its smartphone-connected electric toothbrush\n",
            "Fitbit's heart rate monitoring accuracy questioned in class action suit\n",
            "New York-Presbyterian Hospital launches patient app, plans to add video visits feature\n",
            "Massachusetts announces plan for digital health hub in Boston\n",
            "UK-based Push Doctor raises $8.2M for video visits offering\n",
            "Validic's VitalSnap captures data from non-connected health devices' screens using a smartphone camera\n",
            "Both Medtronic and Under Armour tap IBM Watson for analytics\n",
            "CES 2016: Running list of health and wellness devices\n",
            "Novartis, Qualcomm Life to develop connected inhaler for COPD\n",
            "Accenture: Just 2 percent of patients at top hospitals are using health apps provided to them\n",
            "Despite deals with Cleveland Clinic and Rite Aid, telemedicine kiosk company HealthSpot closes shop\n",
            "GreatCall unveils Lively Wearable, an activity tracking, personal emergency response device\n",
            "Webinar invitation: Digital health trends in 2016\n",
            "Withings unveils Thermo, a WiFi-enabled thermometer\n",
            "Misfit shows off Ray, a cylindrical activity tracking device\n",
            "Under Armour, HTC unveil three health devices: HR strap, weight scale, and activity tracker\n",
            "Digital healthcare services in 2016 (and beyond)\n",
            "Fitbit unveils Blaze, new activity tracking wearable with color display\n",
            "Valencell sues Apple, Fitbit over heart rate patents\n",
            "Apple rejects iPhone app that uses phone's touch screen to weigh food\n",
            "Hometeam raises $27.5M for mobile-enabled senior care services\n",
            "Tricorder X Prize competition pushes back deadline, loosens requirements\n"
          ],
          "name": "stdout"
        }
      ]
    },
    {
      "cell_type": "code",
      "metadata": {
        "id": "cygCS-H3LmS6",
        "colab_type": "code",
        "outputId": "b2c3dad5-df5f-4d8d-bedb-66e76dcc8456",
        "colab": {
          "base_uri": "https://localhost:8080/",
          "height": 35
        }
      },
      "source": [
        "df_500_1000.shape"
      ],
      "execution_count": 0,
      "outputs": [
        {
          "output_type": "execute_result",
          "data": {
            "text/plain": [
              "(500, 4)"
            ]
          },
          "metadata": {
            "tags": []
          },
          "execution_count": 138
        }
      ]
    },
    {
      "cell_type": "code",
      "metadata": {
        "id": "gJQ-ycjq77jG",
        "colab_type": "code",
        "colab": {}
      },
      "source": [
        "import pandas as pd\n",
        "from google.colab import files\n",
        "df_260_ = pd.DataFrame(desc_260_, columns = ['Title','Description','Date','URL'])\n",
        "#df_9000_.to_csv('df_9000_.csv')\n",
        "#files.download('df_9000_.csv')"
      ],
      "execution_count": 0,
      "outputs": []
    },
    {
      "cell_type": "code",
      "metadata": {
        "id": "VlgcrRvHg6Dd",
        "colab_type": "code",
        "colab": {}
      },
      "source": [
        "import pandas as pd\n",
        "from google.colab import files\n",
        "df_6000_7000 = pd.DataFrame(desc_6000_7000, columns = ['Title','Description','Date','URL'])\n",
        "df_6000_7000.to_csv('df_6000_7000.csv')\n",
        "files.download('df_6000_7000.csv')"
      ],
      "execution_count": 0,
      "outputs": []
    },
    {
      "cell_type": "code",
      "metadata": {
        "id": "ZSXGqcJFUpgv",
        "colab_type": "code",
        "colab": {}
      },
      "source": [
        "df_260_.to_excel('df_260_.xlsx')\n",
        "files.download('df_260_.xlsx')"
      ],
      "execution_count": 0,
      "outputs": []
    },
    {
      "cell_type": "code",
      "metadata": {
        "id": "Og_qXrTu1ma4",
        "colab_type": "code",
        "outputId": "c9dcd0b5-fcd6-4ae6-d34c-1aeba3ddf95b",
        "colab": {
          "base_uri": "https://localhost:8080/",
          "height": 35
        }
      },
      "source": [
        "len(main_link_mobi)"
      ],
      "execution_count": 0,
      "outputs": [
        {
          "output_type": "execute_result",
          "data": {
            "text/plain": [
              "4750"
            ]
          },
          "metadata": {
            "tags": []
          },
          "execution_count": 114
        }
      ]
    },
    {
      "cell_type": "code",
      "metadata": {
        "id": "KmlxJrRcBcsu",
        "colab_type": "code",
        "outputId": "8e852182-f9b6-463b-d475-aeb797ada82b",
        "colab": {
          "base_uri": "https://localhost:8080/",
          "height": 35
        }
      },
      "source": [
        "main_link_mobi[0]"
      ],
      "execution_count": 0,
      "outputs": [
        {
          "output_type": "execute_result",
          "data": {
            "text/plain": [
              "'https://www.mobihealthnews.com/content/asia-pacific/study-combination-self-monitoring-blood-glucose-device-dtx-improve-patient'"
            ]
          },
          "metadata": {
            "tags": []
          },
          "execution_count": 115
        }
      ]
    },
    {
      "cell_type": "code",
      "metadata": {
        "id": "nMvB7pWlBgz-",
        "colab_type": "code",
        "outputId": "1381e7f0-816c-4ec8-9581-2d48259c665c",
        "colab": {
          "base_uri": "https://localhost:8080/",
          "height": 35
        }
      },
      "source": [
        "main_link_mobi[500]"
      ],
      "execution_count": 0,
      "outputs": [
        {
          "output_type": "execute_result",
          "data": {
            "text/plain": [
              "'https://www.mobihealthnews.com/content/asia-pacific/study-combination-self-monitoring-blood-glucose-device-dtx-improve-patient'"
            ]
          },
          "metadata": {
            "tags": []
          },
          "execution_count": 116
        }
      ]
    },
    {
      "cell_type": "code",
      "metadata": {
        "id": "XLLIengSBkBw",
        "colab_type": "code",
        "outputId": "59380390-42f0-4ac6-e0b8-3fc25ef76274",
        "colab": {
          "base_uri": "https://localhost:8080/",
          "height": 35
        }
      },
      "source": [
        "main_link_mobi[510]"
      ],
      "execution_count": 0,
      "outputs": [
        {
          "output_type": "execute_result",
          "data": {
            "text/plain": [
              "'https://www.mobihealthnews.com/content/asia-pacific/study-combination-self-monitoring-blood-glucose-device-dtx-improve-patient'"
            ]
          },
          "metadata": {
            "tags": []
          },
          "execution_count": 118
        }
      ]
    },
    {
      "cell_type": "code",
      "metadata": {
        "id": "me2MoLssI73m",
        "colab_type": "code",
        "outputId": "e7a00970-bafb-4e57-dd97-8830e5dab787",
        "colab": {
          "base_uri": "https://localhost:8080/",
          "height": 35
        }
      },
      "source": [
        "main_link_mobi[520]"
      ],
      "execution_count": 0,
      "outputs": [
        {
          "output_type": "execute_result",
          "data": {
            "text/plain": [
              "'https://www.mobihealthnews.com/content/asia-pacific/study-combination-self-monitoring-blood-glucose-device-dtx-improve-patient'"
            ]
          },
          "metadata": {
            "tags": []
          },
          "execution_count": 119
        }
      ]
    },
    {
      "cell_type": "code",
      "metadata": {
        "id": "eDihL1tnI_bl",
        "colab_type": "code",
        "outputId": "9d9ab9b9-3d6d-4024-952c-aa9dd026fa98",
        "colab": {
          "base_uri": "https://localhost:8080/",
          "height": 35
        }
      },
      "source": [
        "main_link_mobi_1[520]"
      ],
      "execution_count": 0,
      "outputs": [
        {
          "output_type": "execute_result",
          "data": {
            "text/plain": [
              "'https://www.mobihealthnews.com/content/propeller-healths-new-deal-orion-corporation-extends-its-european-reach'"
            ]
          },
          "metadata": {
            "tags": []
          },
          "execution_count": 122
        }
      ]
    },
    {
      "cell_type": "code",
      "metadata": {
        "id": "PHKoe2qVKujH",
        "colab_type": "code",
        "outputId": "aef890c4-5131-45d0-b3f7-2d56c54ed1e4",
        "colab": {
          "base_uri": "https://localhost:8080/",
          "height": 35
        }
      },
      "source": [
        "main_link_mobi_1[500]"
      ],
      "execution_count": 0,
      "outputs": [
        {
          "output_type": "execute_result",
          "data": {
            "text/plain": [
              "'https://www.mobihealthnews.com/content/retail-uses-tech-and-data-engage-its-consumers-%E2%80%94-why-cant-healthcare'"
            ]
          },
          "metadata": {
            "tags": []
          },
          "execution_count": 123
        }
      ]
    },
    {
      "cell_type": "code",
      "metadata": {
        "id": "DTmfXyqSK2Yn",
        "colab_type": "code",
        "outputId": "2632b056-eb1f-43ab-af63-f717c82bf21d",
        "colab": {
          "base_uri": "https://localhost:8080/",
          "height": 35
        }
      },
      "source": [
        "main_link_mobi_1[0]"
      ],
      "execution_count": 0,
      "outputs": [
        {
          "output_type": "execute_result",
          "data": {
            "text/plain": [
              "'https://www.mobihealthnews.com/content/asia-pacific/study-combination-self-monitoring-blood-glucose-device-dtx-improve-patient'"
            ]
          },
          "metadata": {
            "tags": []
          },
          "execution_count": 124
        }
      ]
    },
    {
      "cell_type": "code",
      "metadata": {
        "id": "tlX-5ZPmK52H",
        "colab_type": "code",
        "colab": {}
      },
      "source": [
        ""
      ],
      "execution_count": 0,
      "outputs": []
    }
  ]
}